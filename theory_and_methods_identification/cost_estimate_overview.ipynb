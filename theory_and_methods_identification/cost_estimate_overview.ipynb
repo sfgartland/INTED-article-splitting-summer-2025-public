{
 "cells": [
  {
   "cell_type": "code",
   "execution_count": null,
   "id": "bd38f5c1",
   "metadata": {},
   "outputs": [
    {
     "ename": "ModuleNotFoundError",
     "evalue": "No module named 'section_classifier'",
     "output_type": "error",
     "traceback": [
      "\u001b[31m---------------------------------------------------------------------------\u001b[39m",
      "\u001b[31mModuleNotFoundError\u001b[39m                       Traceback (most recent call last)",
      "\u001b[36mCell\u001b[39m\u001b[36m \u001b[39m\u001b[32mIn[1]\u001b[39m\u001b[32m, line 9\u001b[39m\n\u001b[32m      3\u001b[39m \u001b[38;5;66;03m# Add parent directory to path to import local modules\u001b[39;00m\n\u001b[32m      4\u001b[39m \u001b[38;5;66;03m# sys.path.insert(0, r\"C:/Users/sfgar/programing/INTED-article-splitting/__computational_essays/python_code\")\u001b[39;00m\n\u001b[32m      6\u001b[39m \u001b[38;5;28;01mfrom\u001b[39;00m\u001b[38;5;250m \u001b[39m\u001b[34;01mLLM_classifier\u001b[39;00m\u001b[38;5;250m \u001b[39m\u001b[38;5;28;01mimport\u001b[39;00m (\n\u001b[32m      7\u001b[39m     load_categories_from_json,\n\u001b[32m      8\u001b[39m )\n\u001b[32m----> \u001b[39m\u001b[32m9\u001b[39m \u001b[38;5;28;01mfrom\u001b[39;00m\u001b[38;5;250m \u001b[39m\u001b[34;01mtheory_classifiers\u001b[39;00m\u001b[38;5;250m \u001b[39m\u001b[38;5;28;01mimport\u001b[39;00m TheoreticalFrameworkClassifier\n\u001b[32m     10\u001b[39m \u001b[38;5;28;01mfrom\u001b[39;00m\u001b[38;5;250m \u001b[39m\u001b[34;01m.\u001b[39;00m\u001b[34;01m.\u001b[39;00m\u001b[34;01mpython_code\u001b[39;00m\u001b[38;5;250m \u001b[39m\u001b[38;5;28;01mimport\u001b[39;00m helpers\n\u001b[32m     13\u001b[39m \u001b[38;5;28;01mfrom\u001b[39;00m\u001b[38;5;250m \u001b[39m\u001b[34;01mLLM_classifier\u001b[39;00m\u001b[34;01m.\u001b[39;00m\u001b[34;01mcost_estimator\u001b[39;00m\u001b[38;5;250m \u001b[39m\u001b[38;5;28;01mimport\u001b[39;00m CostEstimationWrapper\n",
      "\u001b[36mFile \u001b[39m\u001b[32mc:\\Users\\sfgar\\programing\\INTED-article-splitting\\__computational_essays\\theory_and_methods_identification\\theory_classifiers.py:8\u001b[39m\n\u001b[32m      1\u001b[39m \u001b[33;03m\"\"\"\u001b[39;00m\n\u001b[32m      2\u001b[39m \u001b[33;03mSpecific classifier implementations.\u001b[39;00m\n\u001b[32m      3\u001b[39m \n\u001b[32m      4\u001b[39m \u001b[33;03mThis module contains concrete implementations of section classifiers for different types of academic sections.\u001b[39;00m\n\u001b[32m      5\u001b[39m \u001b[33;03m\"\"\"\u001b[39;00m\n\u001b[32m      7\u001b[39m \u001b[38;5;28;01mfrom\u001b[39;00m\u001b[38;5;250m \u001b[39m\u001b[34;01mtyping\u001b[39;00m\u001b[38;5;250m \u001b[39m\u001b[38;5;28;01mimport\u001b[39;00m Tuple, List\n\u001b[32m----> \u001b[39m\u001b[32m8\u001b[39m \u001b[38;5;28;01mfrom\u001b[39;00m\u001b[38;5;250m \u001b[39m\u001b[34;01msection_classifier\u001b[39;00m\u001b[34;01m.\u001b[39;00m\u001b[34;01mclassifiers\u001b[39;00m\u001b[34;01m.\u001b[39;00m\u001b[34;01mcategory_classifier\u001b[39;00m\u001b[38;5;250m \u001b[39m\u001b[38;5;28;01mimport\u001b[39;00m CategoryClassifier\n\u001b[32m      9\u001b[39m \u001b[38;5;28;01mfrom\u001b[39;00m\u001b[38;5;250m \u001b[39m\u001b[34;01msection_classifier\u001b[39;00m\u001b[34;01m.\u001b[39;00m\u001b[34;01mclassifiers\u001b[39;00m\u001b[34;01m.\u001b[39;00m\u001b[34;01msection_classifier\u001b[39;00m\u001b[38;5;250m \u001b[39m\u001b[38;5;28;01mimport\u001b[39;00m SectionClassifier\n\u001b[32m     10\u001b[39m \u001b[38;5;28;01mfrom\u001b[39;00m\u001b[38;5;250m \u001b[39m\u001b[34;01msection_classifier\u001b[39;00m\u001b[34;01m.\u001b[39;00m\u001b[34;01mmodels\u001b[39;00m\u001b[34;01m.\u001b[39;00m\u001b[34;01mbase_models\u001b[39;00m\u001b[38;5;250m \u001b[39m\u001b[38;5;28;01mimport\u001b[39;00m BaseCategory, CategoryTemperatureLevel\n",
      "\u001b[31mModuleNotFoundError\u001b[39m: No module named 'section_classifier'"
     ]
    }
   ],
   "source": [
    "\n",
    "import pandas as pd\n",
    "\n",
    "# Add parent directory to path to import local modules\n",
    "# sys.path.insert(0, r\"C:/Users/sfgar/programing/INTED-article-splitting/__computational_essays/python_code\")\n",
    "\n",
    "from LLM_classifier import (\n",
    "    load_categories_from_json\n",
    ")\n",
    "from theory_classifiers import TheoreticalFrameworkClassifier\n",
    "from ..python_code import helpers\n",
    "\n",
    "\n",
    "from LLM_classifier.cost_estimator import CostEstimationWrapper\n"
   ]
  },
  {
   "cell_type": "code",
   "execution_count": 7,
   "id": "b6521217",
   "metadata": {},
   "outputs": [
    {
     "name": "stdout",
     "output_type": "stream",
     "text": [
      "Warning: OPENAI_API_KEY not found in .env.secret file, using system environment variable. This might be your personal key...\n"
     ]
    }
   ],
   "source": [
    "\n",
    "api_key = helpers.safe_load_env_variable(\"OPENAI_API_KEY\")\n",
    "# Initialize the classifier with loaded frameworks\n",
    "classifier_mini = TheoreticalFrameworkClassifier(\n",
    "    api_key = api_key,\n",
    "    temperature=0.3,\n",
    "    general_model=\"gpt-4.1-mini\",\n",
    "    reasoning_model=\"o3-mini\"\n",
    ")\n",
    "\n",
    "\n",
    "classifier_normal = TheoreticalFrameworkClassifier(\n",
    "    api_key = api_key,\n",
    "    temperature=0.3,\n",
    "    general_model=\"gpt-4.1\",\n",
    "    reasoning_model=\"o3-mini\"\n",
    ")"
   ]
  },
  {
   "cell_type": "code",
   "execution_count": 8,
   "id": "cbc3fd94",
   "metadata": {},
   "outputs": [
    {
     "name": "stdout",
     "output_type": "stream",
     "text": [
      "Successfully loaded 135 categories from ./reviewed_categories_20250721_163329.json\n"
     ]
    }
   ],
   "source": [
    "\n",
    "# Load the data\n",
    "df = pd.read_pickle(\"C:/Users/sfgar/programing/INTED-article-splitting/__computational_essays/data/classified_sections_light_gpt-4.1-mini_20250716_122412.pkl\")\n",
    "frameworks = load_categories_from_json(\"./reviewed_categories_20250721_163329.json\")"
   ]
  },
  {
   "cell_type": "code",
   "execution_count": 9,
   "id": "f3ea6208",
   "metadata": {},
   "outputs": [],
   "source": [
    "\n",
    "# Helper function to filter DataFrame by category\n",
    "def filter_df_by_category(\n",
    "    df,\n",
    "    value: str,\n",
    "    column: str = \"classification_highest_prob_gpt-4.1-mini\"\n",
    "):\n",
    "    \"\"\"\n",
    "    Returns a DataFrame filtered to only rows where the specified column matches the given value.\n",
    "    \"\"\"\n",
    "    mask = df[column] == value\n",
    "    return df[mask].copy()\n",
    "\n",
    "# Filter for theoretical framework sections\n",
    "theory_df = filter_df_by_category(df, \"Theoretical Framework\")\n",
    "methods_df = filter_df_by_category(df, \"Methods\")"
   ]
  },
  {
   "cell_type": "code",
   "execution_count": 10,
   "id": "43b33418",
   "metadata": {},
   "outputs": [
    {
     "name": "stdout",
     "output_type": "stream",
     "text": [
      "Successfully loaded 13 categories from C:/Users/sfgar/programing/INTED-article-splitting/__computational_essays/data/classifiers_LLM_generated.json\n"
     ]
    }
   ],
   "source": [
    "cost_estimator_mini = CostEstimationWrapper(classifier_mini)\n",
    "theory_data = classifier_mini._df_to_sections(theory_df)\n",
    "theory_preped_discovery_data = [section.text for section in theory_data]\n",
    "methods_data = classifier_mini._df_to_sections(methods_df)\n",
    "methods_preped_discovery_data = [section.text for section in methods_data]\n",
    "all_data = classifier_mini._df_to_sections(df)\n",
    "\n",
    "section_categories = load_categories_from_json(\"C:/Users/sfgar/programing/INTED-article-splitting/__computational_essays/data/classifiers_LLM_generated.json\")\n"
   ]
  },
  {
   "cell_type": "code",
   "execution_count": 11,
   "id": "76e4c906",
   "metadata": {},
   "outputs": [],
   "source": [
    "\n",
    "theory_est_mini = cost_estimator_mini.estimate_full_workflow(theory_data, frameworks, theory_preped_discovery_data)\n",
    "method_est_mini = cost_estimator_mini.estimate_full_workflow(methods_data, frameworks, methods_preped_discovery_data)\n",
    "all_mini = cost_estimator_mini.estimate_full_workflow(all_data, section_categories)"
   ]
  },
  {
   "cell_type": "code",
   "execution_count": 12,
   "id": "09a42689",
   "metadata": {},
   "outputs": [],
   "source": [
    "\n",
    "\n",
    "cost_estimator_normal = CostEstimationWrapper(classifier_normal)\n",
    "\n",
    "theory_est_normal = cost_estimator_normal.estimate_full_workflow(theory_data, frameworks, theory_preped_discovery_data)\n",
    "method_est_normal = cost_estimator_normal.estimate_full_workflow(methods_data, frameworks, methods_preped_discovery_data)\n",
    "all_est_normal = cost_estimator_normal.estimate_full_workflow(all_data, section_categories)\n",
    "\n",
    "\n"
   ]
  },
  {
   "cell_type": "code",
   "execution_count": 38,
   "id": "eb27978b",
   "metadata": {},
   "outputs": [
    {
     "data": {
      "text/html": [
       "<style type=\"text/css\">\n",
       "#T_3ac39_row0_col0, #T_3ac39_row0_col1, #T_3ac39_row0_col2, #T_3ac39_row1_col0, #T_3ac39_row1_col1, #T_3ac39_row1_col2, #T_3ac39_row2_col0, #T_3ac39_row2_col1, #T_3ac39_row2_col2, #T_3ac39_row3_col0, #T_3ac39_row3_col1, #T_3ac39_row3_col2 {\n",
       "  text-align: center;\n",
       "  background-color: #e9f5e9;\n",
       "}\n",
       "#T_3ac39_row4_col0, #T_3ac39_row4_col1, #T_3ac39_row4_col2 {\n",
       "  text-align: center;\n",
       "  background-color: #e9f5e9;\n",
       "  font-weight: bold;\n",
       "}\n",
       "</style>\n",
       "<table id=\"T_3ac39\">\n",
       "  <caption>Run costs with gpt-4.1-mini</caption>\n",
       "  <thead>\n",
       "    <tr>\n",
       "      <th class=\"blank level0\" >&nbsp;</th>\n",
       "      <th id=\"T_3ac39_level0_col0\" class=\"col_heading level0 col0\" >Step label</th>\n",
       "      <th id=\"T_3ac39_level0_col1\" class=\"col_heading level0 col1\" >Methods identification</th>\n",
       "      <th id=\"T_3ac39_level0_col2\" class=\"col_heading level0 col2\" >Theory identification</th>\n",
       "    </tr>\n",
       "  </thead>\n",
       "  <tbody>\n",
       "    <tr>\n",
       "      <th id=\"T_3ac39_level0_row0\" class=\"row_heading level0 row0\" >0</th>\n",
       "      <td id=\"T_3ac39_row0_col0\" class=\"data row0 col0\" >Discovery</td>\n",
       "      <td id=\"T_3ac39_row0_col1\" class=\"data row0 col1\" >$0.04</td>\n",
       "      <td id=\"T_3ac39_row0_col2\" class=\"data row0 col2\" >$nan</td>\n",
       "    </tr>\n",
       "    <tr>\n",
       "      <th id=\"T_3ac39_level0_row1\" class=\"row_heading level0 row1\" >1</th>\n",
       "      <td id=\"T_3ac39_row1_col0\" class=\"data row1 col0\" >Classification</td>\n",
       "      <td id=\"T_3ac39_row1_col1\" class=\"data row1 col1\" >$5.77</td>\n",
       "      <td id=\"T_3ac39_row1_col2\" class=\"data row1 col2\" >$2.13</td>\n",
       "    </tr>\n",
       "    <tr>\n",
       "      <th id=\"T_3ac39_level0_row2\" class=\"row_heading level0 row2\" >2</th>\n",
       "      <td id=\"T_3ac39_row2_col0\" class=\"data row2 col0\" >Review</td>\n",
       "      <td id=\"T_3ac39_row2_col1\" class=\"data row2 col1\" >$0.00</td>\n",
       "      <td id=\"T_3ac39_row2_col2\" class=\"data row2 col2\" >$nan</td>\n",
       "    </tr>\n",
       "    <tr>\n",
       "      <th id=\"T_3ac39_level0_row3\" class=\"row_heading level0 row3\" >3</th>\n",
       "      <td id=\"T_3ac39_row3_col0\" class=\"data row3 col0\" >Classification</td>\n",
       "      <td id=\"T_3ac39_row3_col1\" class=\"data row3 col1\" >$5.77</td>\n",
       "      <td id=\"T_3ac39_row3_col2\" class=\"data row3 col2\" >$nan</td>\n",
       "    </tr>\n",
       "    <tr>\n",
       "      <th id=\"T_3ac39_level0_row4\" class=\"row_heading level0 row4\" >Total</th>\n",
       "      <td id=\"T_3ac39_row4_col0\" class=\"data row4 col0\" >nan</td>\n",
       "      <td id=\"T_3ac39_row4_col1\" class=\"data row4 col1\" >$11.59</td>\n",
       "      <td id=\"T_3ac39_row4_col2\" class=\"data row4 col2\" >$2.13</td>\n",
       "    </tr>\n",
       "  </tbody>\n",
       "</table>\n"
      ],
      "text/plain": [
       "<pandas.io.formats.style.Styler at 0x1d9586cb530>"
      ]
     },
     "execution_count": 38,
     "metadata": {},
     "output_type": "execute_result"
    }
   ],
   "source": [
    "\n",
    "data = {\n",
    "    \"Step label\": [\"Discovery\", \"Classification\", \"Review\", \"Classification\"], \n",
    "    'Methods identification': [method_est_mini[\"category_discovery\"].total_cost, method_est_mini[\"batch_classification\"].total_cost, method_est_mini[\"category_review\"].total_cost, method_est_mini[\"batch_classification\"].total_cost],\n",
    "    'Theory identification': [None,theory_est_mini[\"batch_classification\"].total_cost,None,None],\n",
    "    # 'Section classification': [0,all_mini[\"batch_classification\"].total_cost,0,0]\n",
    "}\n",
    "\n",
    "cost_df = pd.DataFrame(data)\n",
    "\n",
    "cost_df.loc['Total'] = cost_df.sum(numeric_only=True)\n",
    "\n",
    "price_columns = [x for x in cost_df.keys()if x != \"Step label\"]\n",
    "\n",
    "cost_df.style.set_properties(**{'text-align': 'center', 'background-color': '#e9f5e9'}).format('${:,.2f}', subset=price_columns).set_caption(\"Run costs with gpt-4.1-mini\").apply(lambda x: ['font-weight: bold'] * len(x), axis=1, subset=pd.IndexSlice['Total', :])\n"
   ]
  },
  {
   "cell_type": "code",
   "execution_count": 39,
   "id": "b2620b11",
   "metadata": {},
   "outputs": [
    {
     "data": {
      "text/html": [
       "<style type=\"text/css\">\n",
       "#T_3a8e5_row0_col0, #T_3a8e5_row0_col1, #T_3a8e5_row0_col2, #T_3a8e5_row0_col3, #T_3a8e5_row1_col0, #T_3a8e5_row1_col1, #T_3a8e5_row1_col2, #T_3a8e5_row1_col3, #T_3a8e5_row2_col0, #T_3a8e5_row2_col1, #T_3a8e5_row2_col2, #T_3a8e5_row2_col3, #T_3a8e5_row3_col0, #T_3a8e5_row3_col1, #T_3a8e5_row3_col2, #T_3a8e5_row3_col3 {\n",
       "  text-align: center;\n",
       "  background-color: #FFE5E5;\n",
       "}\n",
       "#T_3a8e5_row4_col0, #T_3a8e5_row4_col1, #T_3a8e5_row4_col2, #T_3a8e5_row4_col3 {\n",
       "  text-align: center;\n",
       "  background-color: #FFE5E5;\n",
       "  font-weight: bold;\n",
       "}\n",
       "</style>\n",
       "<table id=\"T_3a8e5\">\n",
       "  <caption>Run costs with gpt-4.1</caption>\n",
       "  <thead>\n",
       "    <tr>\n",
       "      <th class=\"blank level0\" >&nbsp;</th>\n",
       "      <th id=\"T_3a8e5_level0_col0\" class=\"col_heading level0 col0\" >Step label</th>\n",
       "      <th id=\"T_3a8e5_level0_col1\" class=\"col_heading level0 col1\" >Methods identification</th>\n",
       "      <th id=\"T_3a8e5_level0_col2\" class=\"col_heading level0 col2\" >Theory identification</th>\n",
       "      <th id=\"T_3a8e5_level0_col3\" class=\"col_heading level0 col3\" >Section classification</th>\n",
       "    </tr>\n",
       "  </thead>\n",
       "  <tbody>\n",
       "    <tr>\n",
       "      <th id=\"T_3a8e5_level0_row0\" class=\"row_heading level0 row0\" >0</th>\n",
       "      <td id=\"T_3a8e5_row0_col0\" class=\"data row0 col0\" >Discovery</td>\n",
       "      <td id=\"T_3a8e5_row0_col1\" class=\"data row0 col1\" >$0.22</td>\n",
       "      <td id=\"T_3a8e5_row0_col2\" class=\"data row0 col2\" >$nan</td>\n",
       "      <td id=\"T_3a8e5_row0_col3\" class=\"data row0 col3\" >$nan</td>\n",
       "    </tr>\n",
       "    <tr>\n",
       "      <th id=\"T_3a8e5_level0_row1\" class=\"row_heading level0 row1\" >1</th>\n",
       "      <td id=\"T_3a8e5_row1_col0\" class=\"data row1 col0\" >Classification</td>\n",
       "      <td id=\"T_3a8e5_row1_col1\" class=\"data row1 col1\" >$28.86</td>\n",
       "      <td id=\"T_3a8e5_row1_col2\" class=\"data row1 col2\" >$10.65</td>\n",
       "      <td id=\"T_3a8e5_row1_col3\" class=\"data row1 col3\" >$43.99</td>\n",
       "    </tr>\n",
       "    <tr>\n",
       "      <th id=\"T_3a8e5_level0_row2\" class=\"row_heading level0 row2\" >2</th>\n",
       "      <td id=\"T_3a8e5_row2_col0\" class=\"data row2 col0\" >Review</td>\n",
       "      <td id=\"T_3a8e5_row2_col1\" class=\"data row2 col1\" >$0.00</td>\n",
       "      <td id=\"T_3a8e5_row2_col2\" class=\"data row2 col2\" >$nan</td>\n",
       "      <td id=\"T_3a8e5_row2_col3\" class=\"data row2 col3\" >$nan</td>\n",
       "    </tr>\n",
       "    <tr>\n",
       "      <th id=\"T_3a8e5_level0_row3\" class=\"row_heading level0 row3\" >3</th>\n",
       "      <td id=\"T_3a8e5_row3_col0\" class=\"data row3 col0\" >Classification</td>\n",
       "      <td id=\"T_3a8e5_row3_col1\" class=\"data row3 col1\" >$28.86</td>\n",
       "      <td id=\"T_3a8e5_row3_col2\" class=\"data row3 col2\" >$nan</td>\n",
       "      <td id=\"T_3a8e5_row3_col3\" class=\"data row3 col3\" >$nan</td>\n",
       "    </tr>\n",
       "    <tr>\n",
       "      <th id=\"T_3a8e5_level0_row4\" class=\"row_heading level0 row4\" >Total</th>\n",
       "      <td id=\"T_3a8e5_row4_col0\" class=\"data row4 col0\" >nan</td>\n",
       "      <td id=\"T_3a8e5_row4_col1\" class=\"data row4 col1\" >$57.95</td>\n",
       "      <td id=\"T_3a8e5_row4_col2\" class=\"data row4 col2\" >$10.65</td>\n",
       "      <td id=\"T_3a8e5_row4_col3\" class=\"data row4 col3\" >$43.99</td>\n",
       "    </tr>\n",
       "  </tbody>\n",
       "</table>\n"
      ],
      "text/plain": [
       "<pandas.io.formats.style.Styler at 0x1d9586ca000>"
      ]
     },
     "execution_count": 39,
     "metadata": {},
     "output_type": "execute_result"
    }
   ],
   "source": [
    "\n",
    "\n",
    "data = {\n",
    "    \"Step label\": [\"Discovery\", \"Classification\", \"Review\", \"Classification\"], \n",
    "    'Methods identification': [method_est_normal[\"category_discovery\"].total_cost, method_est_normal[\"batch_classification\"].total_cost, method_est_normal[\"category_review\"].total_cost, method_est_normal[\"batch_classification\"].total_cost],\n",
    "    'Theory identification': [None,theory_est_normal[\"batch_classification\"].total_cost,None,None],\n",
    "    \"Section classification\": [None, all_est_normal[\"batch_classification\"].total_cost,None,None]\n",
    "}\n",
    "\n",
    "cost_df = pd.DataFrame(data)\n",
    "\n",
    "cost_df.loc['Total'] = cost_df.sum(numeric_only=True)\n",
    "\n",
    "price_columns = [x for x in cost_df.keys()if x != \"Step label\"]\n",
    "\n",
    "cost_df.style.set_properties(**{'text-align': 'center', 'background-color': '#FFE5E5'}).format('${:,.2f}', subset=price_columns).set_caption(\"Run costs with gpt-4.1\").apply(lambda x: ['font-weight: bold'] * len(x), axis=1, subset=pd.IndexSlice['Total', :])"
   ]
  }
 ],
 "metadata": {
  "kernelspec": {
   "display_name": "inted_embed",
   "language": "python",
   "name": "python3"
  },
  "language_info": {
   "codemirror_mode": {
    "name": "ipython",
    "version": 3
   },
   "file_extension": ".py",
   "mimetype": "text/x-python",
   "name": "python",
   "nbconvert_exporter": "python",
   "pygments_lexer": "ipython3",
   "version": "3.12.3"
  }
 },
 "nbformat": 4,
 "nbformat_minor": 5
}
